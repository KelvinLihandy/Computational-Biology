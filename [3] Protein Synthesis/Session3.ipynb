{
 "cells": [
  {
   "cell_type": "code",
   "execution_count": null,
   "metadata": {},
   "outputs": [],
   "source": [
    "from Bio.Seq import Seq\n",
    "# from Bio.utils import Seq3\n",
    "from Bio.Data import CodonTable\n",
    "from Bio.SeqUtils import seq1\n",
    "import py3Dmol"
   ]
  },
  {
   "cell_type": "code",
   "execution_count": null,
   "metadata": {},
   "outputs": [
    {
     "name": "stdout",
     "output_type": "stream",
     "text": [
      "Coding   = GTCAGTCATCGTACT\n",
      "Template = CAGTCAGTAGCATGA\n"
     ]
    }
   ],
   "source": [
    "template = Seq('CAGTCAGTAGCATGA')\n",
    "coding = template.complement()\n",
    "print(f\"Coding   = {coding}\")\n",
    "print(f\"Template = {template}\")"
   ]
  },
  {
   "cell_type": "code",
   "execution_count": null,
   "metadata": {},
   "outputs": [
    {
     "name": "stdout",
     "output_type": "stream",
     "text": [
      "Reversed coding manual   = TCATGCTACTGACTG\n",
      "Reversed coding built-in = TCATGCTACTGACTG\n"
     ]
    }
   ],
   "source": [
    "# Reverse\n",
    "coding_manual = coding[::-1]\n",
    "coding_built = template.reverse_complement()\n",
    "print(f\"Reversed coding manual   = {coding_manual}\")\n",
    "print(f\"Reversed coding built-in = {coding_built}\")"
   ]
  },
  {
   "cell_type": "code",
   "execution_count": null,
   "metadata": {},
   "outputs": [
    {
     "name": "stdout",
     "output_type": "stream",
     "text": [
      "mRNA = GUCAGUCAUCGUACU\n",
      "DNA  = GTCAGTCATCGTACT\n"
     ]
    }
   ],
   "source": [
    "# Transcription\n",
    "# DNA -> mRNA\n",
    "mRNA = coding.transcribe()\n",
    "print(f'mRNA = {mRNA}')\n",
    "# mRNA -> DNA Reverse Transcribe\n",
    "DNA = mRNA.back_transcribe()\n",
    "print(f'DNA  = {DNA}')"
   ]
  },
  {
   "cell_type": "code",
   "execution_count": null,
   "metadata": {},
   "outputs": [
    {
     "name": "stdout",
     "output_type": "stream",
     "text": [
      "Amino Acid = VSHRT\n"
     ]
    }
   ],
   "source": [
    "# Translation\n",
    "amino_acid = mRNA.translate()\n",
    "print(f'Amino Acid = {amino_acid}')"
   ]
  },
  {
   "cell_type": "code",
   "execution_count": null,
   "metadata": {},
   "outputs": [],
   "source": [
    "# protein = seq3(amino_acid)\n",
    "# print(f'Protein = {amino_acid}')"
   ]
  },
  {
   "cell_type": "code",
   "execution_count": null,
   "metadata": {},
   "outputs": [],
   "source": [
    "print(CodonTable.unambigous_dna_by_name[\"Standard\"])\n",
    "print(CodonTable.unambigous_rna_by_name[\"Standard\"])"
   ]
  },
  {
   "cell_type": "code",
   "execution_count": 17,
   "metadata": {},
   "outputs": [
    {
     "name": "stdout",
     "output_type": "stream",
     "text": [
      "Codon stop = *\n"
     ]
    }
   ],
   "source": [
    "contoh_rna = Seq('UGA')\n",
    "print(f'Codon stop = {contoh_rna.translate()}')"
   ]
  },
  {
   "cell_type": "code",
   "execution_count": null,
   "metadata": {},
   "outputs": [],
   "source": [
    "view = py3Dmol.view(query='pdb:6LU7')\n",
    "view.setStyle({'cartoon': {'color': 'spectrum'}})\n",
    "view.show()"
   ]
  },
  {
   "cell_type": "code",
   "execution_count": 33,
   "metadata": {},
   "outputs": [
    {
     "name": "stdout",
     "output_type": "stream",
     "text": [
      "1\n",
      "AUGCGUUUAUGACGUAUCUGAAGUCUACUAGGGUGAUCUGACUAA\n",
      "GUGUUAGUGCGCUAGUGCUGACUAGGUACAGUAGCUAGUUACUAG\n",
      "2\n",
      "AUGCGUUUAUGACGUAUCUGAAGUGGUACAGUAGCUAGUUACUAG\n",
      "3\n",
      "MRL*RI*SLLG*SD*\n",
      "VLVR*C*LGTVASY*\n",
      "MRL*RI*SGTVASY*\n",
      "4\n",
      "ATGCGTTTATGACGTATCTGAAGTGGTACAGTAGCTAGTTACTAG\n",
      "5\n",
      "TACGCAAATACTGCATAGACTTCAGATGATCCCACTAGACTGATT\n",
      "CACAATCACGCGATCACGACTGATCCATGTCATCGATCAATGATC\n",
      "TACGCAAATACTGCATAGACTTCACCATGTCATCGATCAATGATC\n"
     ]
    }
   ],
   "source": [
    "seq_a = Seq('ATGCGTTTATGACGTATCTGAAGTCTACTAGGGTGATCTGACTAA')\n",
    "seq_b = Seq('GTGTTAGTGCGCTAGTGCTGACTAGGTACAGTAGCTAGTTACTAG')\n",
    "print('1')\n",
    "transcribe_a = seq_a.transcribe()\n",
    "transcribe_b = seq_b.transcribe()\n",
    "print(transcribe_a)\n",
    "print(transcribe_b) \n",
    "print('2')\n",
    "transcribe_c = transcribe_a[0:24] + transcribe_b[-21:]\n",
    "print(transcribe_c)\n",
    "print('3')\n",
    "amino_a = transcribe_a.translate()\n",
    "amino_b = transcribe_b.translate()\n",
    "amino_c = transcribe_c.translate()\n",
    "print(amino_a)\n",
    "print(amino_b)\n",
    "print(amino_c)\n",
    "print('4')\n",
    "seq_c = transcribe_c.back_transcribe()\n",
    "print(seq_c)\n",
    "print('5')\n",
    "comple_a = seq_a.complement()\n",
    "comple_b = seq_b.complement()\n",
    "comple_c = seq_c.complement()\n",
    "print(comple_a)\n",
    "print(comple_b)\n",
    "print(comple_c)"
   ]
  }
 ],
 "metadata": {
  "kernelspec": {
   "display_name": "computational_biology",
   "language": "python",
   "name": "python3"
  },
  "language_info": {
   "codemirror_mode": {
    "name": "ipython",
    "version": 3
   },
   "file_extension": ".py",
   "mimetype": "text/x-python",
   "name": "python",
   "nbconvert_exporter": "python",
   "pygments_lexer": "ipython3",
   "version": "3.12.4"
  }
 },
 "nbformat": 4,
 "nbformat_minor": 2
}
