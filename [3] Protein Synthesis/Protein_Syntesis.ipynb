{
 "cells": [
  {
   "cell_type": "code",
   "execution_count": 21,
   "metadata": {},
   "outputs": [],
   "source": [
    "from Bio.Seq import Seq\n",
    "# from Bio._utils import Seq3\n",
    "from Bio.Data import CodonTable\n",
    "from Bio.SeqUtils import seq1\n",
    "import py3Dmol"
   ]
  },
  {
   "cell_type": "code",
   "execution_count": null,
   "metadata": {},
   "outputs": [
    {
     "name": "stdout",
     "output_type": "stream",
     "text": [
      "Coding   = GTCAGTCATCGTACT\n",
      "Template = CAGTCAGTAGCATGA\n"
     ]
    }
   ],
   "source": [
    "template = Seq('CAGTCAGTAGCATGA') # mRNA complement\n",
    "coding = template.complement() # same code/order as mRNA T -> U\n",
    "print(f\"Coding   = {coding}\")\n",
    "print(f\"Template = {template}\")"
   ]
  },
  {
   "cell_type": "code",
   "execution_count": 23,
   "metadata": {},
   "outputs": [
    {
     "name": "stdout",
     "output_type": "stream",
     "text": [
      "Reversed coding manual   = TCATGCTACTGACTG\n",
      "Reversed coding built-in = TCATGCTACTGACTG\n"
     ]
    }
   ],
   "source": [
    "# Reverse\n",
    "coding_manual = coding[::-1]\n",
    "coding_built = template.reverse_complement()\n",
    "print(f\"Reversed coding manual   = {coding_manual}\")\n",
    "print(f\"Reversed coding built-in = {coding_built}\")"
   ]
  },
  {
   "cell_type": "code",
   "execution_count": 24,
   "metadata": {},
   "outputs": [
    {
     "name": "stdout",
     "output_type": "stream",
     "text": [
      "mRNA = GUCAGUCAUCGUACU\n",
      "DNA  = GTCAGTCATCGTACT\n"
     ]
    }
   ],
   "source": [
    "# Transcription\n",
    "# DNA -> mRNA\n",
    "mRNA = coding.transcribe()\n",
    "print(f'mRNA = {mRNA}')\n",
    "# mRNA -> DNA Reverse Transcribe\n",
    "DNA = mRNA.back_transcribe()\n",
    "print(f'DNA  = {DNA}')"
   ]
  },
  {
   "cell_type": "code",
   "execution_count": 25,
   "metadata": {},
   "outputs": [
    {
     "name": "stdout",
     "output_type": "stream",
     "text": [
      "Amino Acid = VSHRT\n"
     ]
    }
   ],
   "source": [
    "# Translation\n",
    "amino_acid = mRNA.translate()\n",
    "print(f'Amino Acid = {amino_acid}')"
   ]
  },
  {
   "cell_type": "code",
   "execution_count": 26,
   "metadata": {},
   "outputs": [],
   "source": [
    "# protein = seq3(amino_acid)\n",
    "# print(f'Protein = {amino_acid}')"
   ]
  },
  {
   "cell_type": "code",
   "execution_count": 27,
   "metadata": {},
   "outputs": [],
   "source": [
    "# print(CodonTable.unambigous_dna_by_name[\"Standard\"])\n",
    "# print(CodonTable.unambigous_rna_by_name[\"Standard\"])"
   ]
  },
  {
   "cell_type": "code",
   "execution_count": 32,
   "metadata": {},
   "outputs": [
    {
     "name": "stdout",
     "output_type": "stream",
     "text": [
      "Codon stop = *TSD\n"
     ]
    }
   ],
   "source": [
    "contoh_rna = Seq('UGAACGUCCGAT')\n",
    "print(f'Codon stop = {contoh_rna.translate()}')"
   ]
  },
  {
   "cell_type": "code",
   "execution_count": 29,
   "metadata": {},
   "outputs": [
    {
     "data": {
      "application/3dmoljs_load.v0": "<div id=\"3dmolviewer_17493705356531413\"  style=\"position: relative; width: 640px; height: 480px\">\n        <p id=\"3dmolwarning_17493705356531413\" style=\"background-color:#ffcccc;color:black\">You appear to be running in JupyterLab (or JavaScript failed to load for some other reason).  You need to install the 3dmol extension: <br>\n        <tt>jupyter labextension install jupyterlab_3dmol</tt></p>\n        </div>\n<script>\n\nvar loadScriptAsync = function(uri){\n  return new Promise((resolve, reject) => {\n    //this is to ignore the existence of requirejs amd\n    var savedexports, savedmodule;\n    if (typeof exports !== 'undefined') savedexports = exports;\n    else exports = {}\n    if (typeof module !== 'undefined') savedmodule = module;\n    else module = {}\n\n    var tag = document.createElement('script');\n    tag.src = uri;\n    tag.async = true;\n    tag.onload = () => {\n        exports = savedexports;\n        module = savedmodule;\n        resolve();\n    };\n  var firstScriptTag = document.getElementsByTagName('script')[0];\n  firstScriptTag.parentNode.insertBefore(tag, firstScriptTag);\n});\n};\n\nif(typeof $3Dmolpromise === 'undefined') {\n$3Dmolpromise = null;\n  $3Dmolpromise = loadScriptAsync('https://cdnjs.cloudflare.com/ajax/libs/3Dmol/2.0.1/3Dmol-min.js');\n}\n\nvar viewer_17493705356531413 = null;\nvar warn = document.getElementById(\"3dmolwarning_17493705356531413\");\nif(warn) {\n    warn.parentNode.removeChild(warn);\n}\n$3Dmolpromise.then(function() {\nviewer_17493705356531413 = $3Dmol.createViewer(document.getElementById(\"3dmolviewer_17493705356531413\"),{backgroundColor:\"white\"});\n$3Dmol.download(\"pdb:6LU7\", viewer_17493705356531413, {}, function() {\nviewer_17493705356531413.zoomTo();\n\tviewer_17493705356531413.setStyle({\"cartoon\": {\"color\": \"spectrum\"}});\nviewer_17493705356531413.render();\n})\n});\n</script>",
      "text/html": [
       "<div id=\"3dmolviewer_17493705356531413\"  style=\"position: relative; width: 640px; height: 480px\">\n",
       "        <p id=\"3dmolwarning_17493705356531413\" style=\"background-color:#ffcccc;color:black\">You appear to be running in JupyterLab (or JavaScript failed to load for some other reason).  You need to install the 3dmol extension: <br>\n",
       "        <tt>jupyter labextension install jupyterlab_3dmol</tt></p>\n",
       "        </div>\n",
       "<script>\n",
       "\n",
       "var loadScriptAsync = function(uri){\n",
       "  return new Promise((resolve, reject) => {\n",
       "    //this is to ignore the existence of requirejs amd\n",
       "    var savedexports, savedmodule;\n",
       "    if (typeof exports !== 'undefined') savedexports = exports;\n",
       "    else exports = {}\n",
       "    if (typeof module !== 'undefined') savedmodule = module;\n",
       "    else module = {}\n",
       "\n",
       "    var tag = document.createElement('script');\n",
       "    tag.src = uri;\n",
       "    tag.async = true;\n",
       "    tag.onload = () => {\n",
       "        exports = savedexports;\n",
       "        module = savedmodule;\n",
       "        resolve();\n",
       "    };\n",
       "  var firstScriptTag = document.getElementsByTagName('script')[0];\n",
       "  firstScriptTag.parentNode.insertBefore(tag, firstScriptTag);\n",
       "});\n",
       "};\n",
       "\n",
       "if(typeof $3Dmolpromise === 'undefined') {\n",
       "$3Dmolpromise = null;\n",
       "  $3Dmolpromise = loadScriptAsync('https://cdnjs.cloudflare.com/ajax/libs/3Dmol/2.0.1/3Dmol-min.js');\n",
       "}\n",
       "\n",
       "var viewer_17493705356531413 = null;\n",
       "var warn = document.getElementById(\"3dmolwarning_17493705356531413\");\n",
       "if(warn) {\n",
       "    warn.parentNode.removeChild(warn);\n",
       "}\n",
       "$3Dmolpromise.then(function() {\n",
       "viewer_17493705356531413 = $3Dmol.createViewer(document.getElementById(\"3dmolviewer_17493705356531413\"),{backgroundColor:\"white\"});\n",
       "$3Dmol.download(\"pdb:6LU7\", viewer_17493705356531413, {}, function() {\n",
       "viewer_17493705356531413.zoomTo();\n",
       "\tviewer_17493705356531413.setStyle({\"cartoon\": {\"color\": \"spectrum\"}});\n",
       "viewer_17493705356531413.render();\n",
       "})\n",
       "});\n",
       "</script>"
      ]
     },
     "metadata": {},
     "output_type": "display_data"
    }
   ],
   "source": [
    "view = py3Dmol.view(query='pdb:6LU7')\n",
    "view.setStyle({'cartoon': {'color': 'spectrum'}})\n",
    "view.show()"
   ]
  },
  {
   "cell_type": "code",
   "execution_count": null,
   "metadata": {},
   "outputs": [
    {
     "name": "stdout",
     "output_type": "stream",
     "text": [
      "1\n",
      "RNA A = AUGCGUUUAUGACGUAUCUGAAGUCUACUAGGGUGAUCUGACUAA\n",
      "RNA B = GUGUUAGUGCGCUAGUGCUGACUAGGUACAGUAGCUAGUUACUAG\n",
      "2\n",
      "24 RNA A + 21 last RNA B = AUGCGUUUAUGACGUAUCUGAAGUGGUACAGUAGCUAGUUACUAG\n",
      "3\n",
      "ACID A = MRL*RI*SLLG*SD*\n",
      "ACID B = VLVR*C*LGTVASY*\n",
      "ACID C = MRL*RI*SGTVASY*\n",
      "4\n",
      "CODING C = ATGCGTTTATGACGTATCTGAAGTGGTACAGTAGCTAGTTACTAG\n",
      "5\n",
      "TACGCAAATACTGCATAGACTTCAGATGATCCCACTAGACTGATT\n",
      "CACAATCACGCGATCACGACTGATCCATGTCATCGATCAATGATC\n",
      "TACGCAAATACTGCATAGACTTCACCATGTCATCGATCAATGATC\n"
     ]
    }
   ],
   "source": [
    "# coding strands\n",
    "seq_a = Seq('ATGCGTTTATGACGTATCTGAAGTCTACTAGGGTGATCTGACTAA')\n",
    "seq_b = Seq('GTGTTAGTGCGCTAGTGCTGACTAGGTACAGTAGCTAGTTACTAG')\n",
    "print('1')\n",
    "transcribe_a = seq_a.transcribe()\n",
    "transcribe_b = seq_b.transcribe()\n",
    "print(f'RNA A = {transcribe_a}')\n",
    "print(f'RNA B = {transcribe_b}') \n",
    "print('2')\n",
    "transcribe_c = transcribe_a[0:24] + transcribe_b[-21:]\n",
    "print(f'24 RNA A + 21 last RNA B = {transcribe_c}')\n",
    "print('3')\n",
    "amino_a = transcribe_a.translate()\n",
    "amino_b = transcribe_b.translate()\n",
    "amino_c = transcribe_c.translate()\n",
    "print(f'ACID A = {amino_a}')\n",
    "print(f'ACID B = {amino_b}')\n",
    "print(f'ACID C = {amino_c}')\n",
    "print('4')\n",
    "seq_c = transcribe_c.back_transcribe()\n",
    "print(f'CODING C = {seq_c}')\n",
    "print('5')\n",
    "comple_a = seq_a.complement()\n",
    "comple_b = seq_b.complement()\n",
    "comple_c = seq_c.complement()\n",
    "print(f'TEMPLATE A ={comple_a}')\n",
    "print(f'TEMPLATE B = {comple_b}')\n",
    "print(f'TEMPLATE C = {comple_c}')"
   ]
  }
 ],
 "metadata": {
  "kernelspec": {
   "display_name": "computational_biology",
   "language": "python",
   "name": "python3"
  },
  "language_info": {
   "codemirror_mode": {
    "name": "ipython",
    "version": 3
   },
   "file_extension": ".py",
   "mimetype": "text/x-python",
   "name": "python",
   "nbconvert_exporter": "python",
   "pygments_lexer": "ipython3",
   "version": "3.10.16"
  }
 },
 "nbformat": 4,
 "nbformat_minor": 2
}
