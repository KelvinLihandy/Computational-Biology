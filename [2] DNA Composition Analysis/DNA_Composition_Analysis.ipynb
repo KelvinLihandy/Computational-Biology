{
 "cells": [
  {
   "cell_type": "code",
   "execution_count": 5,
   "metadata": {},
   "outputs": [],
   "source": [
    "from Bio.Seq import Seq\n",
    "from Bio.SeqUtils import GC, MeltingTemp as mt, molecular_weight as mw\n",
    "import matplotlib.pyplot as plt"
   ]
  },
  {
   "cell_type": "code",
   "execution_count": 6,
   "metadata": {},
   "outputs": [
    {
     "name": "stdout",
     "output_type": "stream",
     "text": [
      "ATCGTACTACATGCTGCAGTAC\n"
     ]
    }
   ],
   "source": [
    "dna = Seq('ATCGTACTACATGCTGCAGTAC')\n",
    "print(dna)"
   ]
  },
  {
   "cell_type": "code",
   "execution_count": 7,
   "metadata": {},
   "outputs": [
    {
     "name": "stdout",
     "output_type": "stream",
     "text": [
      "45.45454545454545\n",
      "54.54545454545455\n",
      "45.45454545454545\n"
     ]
    },
    {
     "data": {
      "image/png": "[encoded data removed]",
      "text/plain": [
       "<Figure size 640x480 with 1 Axes>"
      ]
     },
     "metadata": {},
     "output_type": "display_data"
    }
   ],
   "source": [
    "def get_gc_percentage(dna):\n",
    "    gc_list = []\n",
    "    for n in dna:\n",
    "        if n == 'G' or n == 'C': gc_list.append(n)\n",
    "    result = len(gc_list) / len(dna) * 100\n",
    "    return result\n",
    "\n",
    "gc_percentage = GC(dna)\n",
    "at_percentage = 100 - gc_percentage\n",
    "user_defined_gc_percentage = get_gc_percentage(dna)\n",
    "\n",
    "print(gc_percentage)\n",
    "print(at_percentage)\n",
    "print(user_defined_gc_percentage)\n",
    "\n",
    "plt.pie(x=[gc_percentage, at_percentage], labels=[gc_percentage, at_percentage])\n",
    "plt.legend(['GC', 'AT'])\n",
    "plt.show()"
   ]
  },
  {
   "cell_type": "code",
   "execution_count": 8,
   "metadata": {},
   "outputs": [
    {
     "name": "stdout",
     "output_type": "stream",
     "text": [
      "GC Content = 51.01852862905152\n",
      "Nearest Neighbor = 52.2665564330631\n",
      "Wallace Rule = 64.0\n",
      "User Defined = 52.97272727272728\n"
     ]
    }
   ],
   "source": [
    "def get_melting_temperature(dna):\n",
    "    count_a = dna.count('A')\n",
    "    count_t = dna.count('T')\n",
    "    count_g = dna.count('G')\n",
    "    count_c = dna.count('C')\n",
    "    if len(dna) < 14:\n",
    "        return (count_a + count_t) * 2 + (count_g + count_c) * 4\n",
    "    else:\n",
    "        return 64.9 + 41 * (count_g + count_c - 16.4) / (len(dna))\n",
    "\n",
    "mt_gc = mt.Tm_GC(dna)\n",
    "mt_nn = mt.Tm_NN(dna)\n",
    "mt_wallace = mt.Tm_Wallace(dna)\n",
    "mt_user = get_melting_temperature(dna)\n",
    "\n",
    "print(f'GC Content = {mt_gc}')\n",
    "print(f'Nearest Neighbor = {mt_nn}')\n",
    "print(f'Wallace Rule = {mt_wallace}')\n",
    "print(f'User Defined = {mt_user}')"
   ]
  },
  {
   "cell_type": "code",
   "execution_count": 11,
   "metadata": {},
   "outputs": [
    {
     "name": "stdout",
     "output_type": "stream",
     "text": [
      "Molecular weight DNA = 6774.327900000001\n",
      "Molecular weight A = 1897.2543\n",
      "Molecular weight T = 1843.1745\n",
      "Molecular weight G = 1334.8389\n",
      "Molecular weight C = 1753.1060999999997\n"
     ]
    }
   ],
   "source": [
    "def get_nucleotides(dna, nucleotide):\n",
    "    nucleotide_list = []\n",
    "    for n in dna:\n",
    "        if n == nucleotide: nucleotide_list.append(n)\n",
    "    result = ''.join(nucleotide_list)\n",
    "    return result\n",
    "\n",
    "def string_molecular_weight(dna, nucleotide):\n",
    "    string_nucleotide = get_nucleotides(dna, nucleotide)\n",
    "    return mw(string_nucleotide)\n",
    "\n",
    "mw_dna = mw(dna)\n",
    "mw_a = string_molecular_weight(dna, 'A')\n",
    "mw_t = string_molecular_weight(dna, 'T')\n",
    "mw_g = string_molecular_weight(dna, 'G')\n",
    "mw_c = string_molecular_weight(dna, 'C')\n",
    "\n",
    "print(f'Molecular weight DNA = {mw_dna}')\n",
    "print(f'Molecular weight A = {mw_a}')\n",
    "print(f'Molecular weight T = {mw_t}')\n",
    "print(f'Molecular weight G = {mw_g}')\n",
    "print(f'Molecular weight C = {mw_c}')"
   ]
  }
 ],
 "metadata": {
  "kernelspec": {
   "display_name": "computational_biology",
   "language": "python",
   "name": "python3"
  },
  "language_info": {
   "codemirror_mode": {
    "name": "ipython",
    "version": 3
   },
   "file_extension": ".py",
   "mimetype": "text/x-python",
   "name": "python",
   "nbconvert_exporter": "python",
   "pygments_lexer": "ipython3",
   "version": "3.10.16"
  }
 },
 "nbformat": 4,
 "nbformat_minor": 2
}
